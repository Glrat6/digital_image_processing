{
 "cells": [
  {
   "cell_type": "markdown",
   "metadata": {},
   "source": [
    "# Örnekleme (sampling)\n",
    "\n",
    "Örnekleme, görüntü piksellerinin seçimi/reddedilmesi anlamına gelir. Sırasıyla `up-sampling` ile bir görüntünün boyutunu artırmak için örneklemeyi kullanabiliriz.\n",
    "\n",
    "## Up-sampling\n",
    "\n",
    "Kısaca görüntünün boyutunu büyütmek için görüntüyü örneklememiz gerekir. Buradaki zorluk, yeni büyük görüntülerin orijinal küçük görüntüde karşılık gelen piksele sahip olmayan bazı piksellere sahip olacağı ve bu bilinmeyen piksel değerlerini tahmin etmemiz gerekir. Aşağıdakileri kullanarak bilinmeyen bir pikselin değerini tahmin edebiliriz:\n",
    "\n",
    "\n",
    "- Örneğin, en yakın bilinen bir veya daha fazla piksel-komşu (one or more pixel-neighbors) değerinin ortalama değeri\n",
    "- İki-doğrusal veya kübik enterpolasyonlu piksel komşuları kullanarak enterpolasyonlu bir değer\n",
    "\n",
    "\n",
    "En yakın komşu temelli örnekleme (Nearest neighbor-based up-sampling), düşük kaliteli çıktı görüntüsüne neden olabilir. "
   ]
  },
  {
   "cell_type": "code",
   "execution_count": null,
   "metadata": {},
   "outputs": [],
   "source": [
    "from PIL import Image\n",
    "from skimage.io import imread, imshow, show\n",
    "#from matplotlib.pyplot import imshow\n",
    "import matplotlib.pylab as pylab\n",
    "%matplotlib inline"
   ]
  },
  {
   "cell_type": "code",
   "execution_count": null,
   "metadata": {},
   "outputs": [],
   "source": [
    "im = Image.open(\"images/clock.png\") \n",
    "print(im.width, im.height)\n",
    "pylab.imshow(im), pylab.show()"
   ]
  },
  {
   "cell_type": "markdown",
   "metadata": {},
   "source": [
    "## En yakın komşu temelli (Nearest neighbor interpolation)"
   ]
  },
  {
   "cell_type": "code",
   "execution_count": null,
   "metadata": {},
   "outputs": [],
   "source": [
    "im1 = im.resize((im.width*5, im.height*5), Image.NEAREST) \n",
    "print(im1.width, im1.height)\n",
    "\n",
    "pylab.figure(figsize=(10,10)), pylab.imshow(im1), pylab.show()"
   ]
  },
  {
   "cell_type": "markdown",
   "metadata": {},
   "source": [
    "Gördüğümüz gibi, en yakın komşu yöntemiyle oluşturulan çıktı görüntüsü, PIL kütüphanesinin resize () işlevini kullanarak giriş görüntüsünden 25 kat daha büyüktür. Fakat net bir şekilde çıktı görüntüsü pikselleştirilmiştir (engelleyici eserler ve pürüzlü kenarlarla) ve kalitesizdir.\n",
    "\n",
    "Yukarı örnekleme ve enterpolasyon\n",
    "\n",
    "Örneklenen çıktı görüntü kalitesini iyileştirmek için, iki-doğrusal veya iki-kübik enterpolasyon gibi bazı enterpolasyon yöntemini kullanabiliriz. \n",
    "Bakalım nasıl:\n",
    "\n",
    "## Bi-doğrusal enterpolasyonu (bi-linear interpolation)\n",
    "\n",
    "Tamsayılı ızgara konumlarında temel olarak 2B piksel değer matrisi olan gri tonlamalı bir görüntü düşünelim. Piksel değerini ızgaradaki herhangi bir P noktasında enterpolasyon yapmak için doğrusal enterpolasyonun 2B analoğu: bilinear enterpolasyon kullanılabilir. Bu durumda, olası her P noktası için (enterpolasyon yapmak istiyoruz) dört komşu (yani, Q11, Q12, Q22 ve Q21) orada olacak ve bu dört komşunun yoğunluk değerleri birleştirilecek P noktasında enterpolasyonlu yoğunluğu, aşağıdaki şekilde gösterildiği gibi hesaplayın:\n",
    "\n",
    "![alt text](assets/3-1.png)\n",
    "\n",
    "İki-doğrusal enterpolasyon için `PIL` `resize ()` fonksiyonunu kullanalım:"
   ]
  },
  {
   "cell_type": "code",
   "execution_count": null,
   "metadata": {},
   "outputs": [],
   "source": [
    "im1 = im.resize((im.width*5, im.height*5), Image.BILINEAR) \n",
    "print(im1.width, im1.height)\n",
    "pylab.figure(figsize=(10,10)), pylab.imshow(im1), pylab.show()"
   ]
  },
  {
   "cell_type": "markdown",
   "metadata": {},
   "source": [
    "Yukarda yeniden boyutlandırılmış görüntüyü görebilirsiniz. Yukarı örnekleme ile `nearest neighbor interpolation`'a göre kalitenin nasıl arttığına dikkat edin"
   ]
  },
  {
   "cell_type": "markdown",
   "metadata": {},
   "source": [
    "## Bi-cubic interpolation\n",
    "\n",
    "2D düzenli bir ızgarada veri noktalarının enterpolasyonu için kübik enterpolasyonun bir uzantısıdır. İnterpolasyonlu yüzey, iki-doğrusal enterpolasyon veya en yakın komşu enterpolasyonu ile elde edilen mukabil yüzeylerden daha pürüzsüzdür.\n",
    "\n",
    "İki kübik enterpolasyon, Lagrange polinomları, kübik eğri çizgiler veya kübik evrişim algoritması kullanılarak gerçekleştirilebilir. PIL 4 x 4 ortamda kübik spline enterpolasyonu kullanır.\n",
    "\n",
    "İki kübik enterpolasyon için PIL resize () işlevini kullanalım:"
   ]
  },
  {
   "cell_type": "code",
   "execution_count": null,
   "metadata": {},
   "outputs": [],
   "source": [
    "im.resize((im.width*5, im.height*5), Image.BICUBIC).show()  # bi-cubic interpolation\n",
    "print(im1.width, im1.height)\n",
    "pylab.figure(figsize=(10,10)), pylab.imshow(im1), pylab.show()"
   ]
  },
  {
   "cell_type": "markdown",
   "metadata": {},
   "source": [
    "İki kübik enterpolasyon kullandığımızda yeniden boyutlandırılan görüntünün kalitesinin nasıl arttığına dikkat edin:"
   ]
  },
  {
   "cell_type": "code",
   "execution_count": null,
   "metadata": {},
   "outputs": [],
   "source": []
  }
 ],
 "metadata": {
  "kernelspec": {
   "display_name": "Python 3",
   "language": "python",
   "name": "python3"
  },
  "language_info": {
   "codemirror_mode": {
    "name": "ipython",
    "version": 3
   },
   "file_extension": ".py",
   "mimetype": "text/x-python",
   "name": "python",
   "nbconvert_exporter": "python",
   "pygments_lexer": "ipython3",
   "version": "3.5.2"
  }
 },
 "nbformat": 4,
 "nbformat_minor": 4
}
